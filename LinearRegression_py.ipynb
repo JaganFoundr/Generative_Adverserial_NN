{
  "nbformat": 4,
  "nbformat_minor": 0,
  "metadata": {
    "colab": {
      "provenance": [],
      "gpuType": "V28",
      "authorship_tag": "ABX9TyOY9tyx4Jr6YkJ9tPRjLR5K",
      "include_colab_link": true
    },
    "kernelspec": {
      "name": "python3",
      "display_name": "Python 3"
    },
    "language_info": {
      "name": "python"
    },
    "accelerator": "TPU"
  },
  "cells": [
    {
      "cell_type": "markdown",
      "metadata": {
        "id": "view-in-github",
        "colab_type": "text"
      },
      "source": [
        "<a href=\"https://colab.research.google.com/github/JaganFoundr/Generative_Adverserial_NN/blob/main/LinearRegression_py.ipynb\" target=\"_parent\"><img src=\"https://colab.research.google.com/assets/colab-badge.svg\" alt=\"Open In Colab\"/></a>"
      ]
    },
    {
      "cell_type": "code",
      "source": [
        "#multidimensional linear regression\n",
        "import torch\n",
        "import numpy as np\n",
        "\n",
        "inputs=np.array([])"
      ],
      "metadata": {
        "id": "nJUhgqvXW2FG"
      },
      "execution_count": null,
      "outputs": []
    }
  ]
}